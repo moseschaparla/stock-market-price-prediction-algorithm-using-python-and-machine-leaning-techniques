{
  "cells": [
    {
      "cell_type": "code",
      "execution_count": null,
      "metadata": {
        "id": "fsXP7SVHRaEW"
      },
      "outputs": [],
      "source": [
        "from google.colab import drive\n",
        "drive.mount('/content/drive')"
      ]
    },
    {
      "cell_type": "code",
      "execution_count": null,
      "metadata": {
        "id": "aIxoe6osSSEV"
      },
      "outputs": [],
      "source": [
        "import pandas as pd\n",
        "path=\"/content/drive/MyDrive/NSE-TATAGLOBAL.csv\"\n",
        "df=pd.read_csv(path)"
      ]
    },
    {
      "cell_type": "code",
      "execution_count": null,
      "metadata": {
        "id": "mzZW-8m4aib-"
      },
      "outputs": [],
      "source": [
        "import numpy as np\n",
        "import pandas as pd\n",
        "import tensorflow as tf\n",
        "import matplotlib.pyplot as plt\n",
        "import sklearn\n",
        "from sklearn.preprocessing import MinMaxScaler\n",
        "import matplotlib.pyplot as plt"
      ]
    },
    {
      "cell_type": "code",
      "execution_count": null,
      "metadata": {
        "id": "sVKhOc5lePo1"
      },
      "outputs": [],
      "source": [
        "dataset_train = pd.read_csv('/content/drive/MyDrive/NSE-TATAGLOBAL.csv')"
      ]
    },
    {
      "cell_type": "code",
      "execution_count": null,
      "metadata": {
        "id": "FFakqa1afB7k"
      },
      "outputs": [],
      "source": [
        "training_set = dataset_train.iloc[:, 1:2].values"
      ]
    },
    {
      "cell_type": "code",
      "execution_count": null,
      "metadata": {
        "id": "0GX1SxjHfYK7"
      },
      "outputs": [],
      "source": [
        "from sklearn.preprocessing import MinMaxScaler\n",
        "sc = MinMaxScaler(feature_range = (0, 1))\n",
        "training_set_scaled = sc.fit_transform(training_set)"
      ]
    },
    {
      "cell_type": "code",
      "execution_count": null,
      "metadata": {
        "id": "ZOjd1E0Qfu78"
      },
      "outputs": [],
      "source": [
        "X_train = []\n",
        "y_train = []\n",
        "for i in range(60, 2035):\n",
        "    X_train.append(training_set_scaled[i-60:i, 0])\n",
        "    y_train.append(training_set_scaled[i, 0])\n",
        "X_train, y_train = np.array(X_train), np.array(y_train)\n",
        "\n",
        "X_train = np.reshape(X_train, (X_train.shape[0], X_train.shape[1], 1))"
      ]
    },
    {
      "cell_type": "code",
      "execution_count": null,
      "metadata": {
        "id": "9-kdWk8df55J"
      },
      "outputs": [],
      "source": [
        "from keras.models import Sequential\n",
        "from keras.layers import Dense\n",
        "from keras.layers import LSTM\n",
        "from keras.layers import Dropout"
      ]
    },
    {
      "cell_type": "code",
      "execution_count": null,
      "metadata": {
        "colab": {
          "base_uri": "https://localhost:8080/"
        },
        "id": "jzZIvav3gDDh",
        "outputId": "9c438e55-caba-4e5c-873b-296efa93e7e6"
      },
      "outputs": [
        {
          "output_type": "stream",
          "name": "stdout",
          "text": [
            "Epoch 1/100\n",
            "62/62 [==============================] - 24s 174ms/step - loss: 0.0134\n",
            "Epoch 2/100\n",
            "62/62 [==============================] - 7s 107ms/step - loss: 0.0037\n",
            "Epoch 3/100\n",
            "62/62 [==============================] - 9s 148ms/step - loss: 0.0030\n",
            "Epoch 4/100\n",
            "62/62 [==============================] - 7s 108ms/step - loss: 0.0025\n",
            "Epoch 5/100\n",
            "62/62 [==============================] - 9s 149ms/step - loss: 0.0028\n",
            "Epoch 6/100\n",
            "62/62 [==============================] - 10s 160ms/step - loss: 0.0024\n",
            "Epoch 7/100\n",
            "62/62 [==============================] - 8s 133ms/step - loss: 0.0023\n",
            "Epoch 8/100\n",
            "62/62 [==============================] - 7s 117ms/step - loss: 0.0022\n",
            "Epoch 9/100\n",
            "62/62 [==============================] - 9s 145ms/step - loss: 0.0022\n",
            "Epoch 10/100\n",
            "62/62 [==============================] - 7s 117ms/step - loss: 0.0020\n",
            "Epoch 11/100\n",
            "62/62 [==============================] - 9s 137ms/step - loss: 0.0019\n",
            "Epoch 12/100\n",
            "62/62 [==============================] - 7s 113ms/step - loss: 0.0017\n",
            "Epoch 13/100\n",
            "62/62 [==============================] - 9s 143ms/step - loss: 0.0017\n",
            "Epoch 14/100\n",
            "62/62 [==============================] - 7s 112ms/step - loss: 0.0018\n",
            "Epoch 15/100\n",
            "62/62 [==============================] - 9s 144ms/step - loss: 0.0018\n",
            "Epoch 16/100\n",
            "62/62 [==============================] - 7s 108ms/step - loss: 0.0018\n",
            "Epoch 17/100\n",
            "62/62 [==============================] - 9s 146ms/step - loss: 0.0017\n",
            "Epoch 18/100\n",
            "62/62 [==============================] - 7s 108ms/step - loss: 0.0016\n",
            "Epoch 19/100\n",
            "62/62 [==============================] - 9s 149ms/step - loss: 0.0016\n",
            "Epoch 20/100\n",
            "62/62 [==============================] - 7s 108ms/step - loss: 0.0015\n",
            "Epoch 21/100\n",
            "62/62 [==============================] - 9s 148ms/step - loss: 0.0015\n",
            "Epoch 22/100\n",
            "62/62 [==============================] - 7s 108ms/step - loss: 0.0015\n",
            "Epoch 23/100\n",
            "62/62 [==============================] - 9s 147ms/step - loss: 0.0014\n",
            "Epoch 24/100\n",
            "62/62 [==============================] - 7s 108ms/step - loss: 0.0013\n",
            "Epoch 25/100\n",
            "62/62 [==============================] - 9s 147ms/step - loss: 0.0012\n",
            "Epoch 26/100\n",
            "62/62 [==============================] - 7s 109ms/step - loss: 0.0014\n",
            "Epoch 27/100\n",
            "62/62 [==============================] - 9s 148ms/step - loss: 0.0012\n",
            "Epoch 28/100\n",
            "62/62 [==============================] - 7s 108ms/step - loss: 0.0013\n",
            "Epoch 29/100\n",
            "62/62 [==============================] - 9s 148ms/step - loss: 0.0014\n",
            "Epoch 30/100\n",
            "62/62 [==============================] - 7s 107ms/step - loss: 0.0014\n",
            "Epoch 31/100\n",
            "62/62 [==============================] - 9s 148ms/step - loss: 0.0012\n",
            "Epoch 32/100\n",
            "62/62 [==============================] - 7s 108ms/step - loss: 0.0011\n",
            "Epoch 33/100\n",
            "62/62 [==============================] - 9s 147ms/step - loss: 0.0013\n",
            "Epoch 34/100\n",
            "62/62 [==============================] - 7s 108ms/step - loss: 9.9946e-04\n",
            "Epoch 35/100\n",
            "62/62 [==============================] - 9s 147ms/step - loss: 0.0012\n",
            "Epoch 36/100\n",
            "62/62 [==============================] - 7s 108ms/step - loss: 0.0012\n",
            "Epoch 37/100\n",
            "62/62 [==============================] - 9s 142ms/step - loss: 9.3979e-04\n",
            "Epoch 38/100\n",
            "62/62 [==============================] - 7s 111ms/step - loss: 9.6580e-04\n",
            "Epoch 39/100\n",
            "62/62 [==============================] - 9s 140ms/step - loss: 9.1170e-04\n",
            "Epoch 40/100\n",
            "62/62 [==============================] - 7s 114ms/step - loss: 8.5604e-04\n",
            "Epoch 41/100\n",
            "62/62 [==============================] - 8s 134ms/step - loss: 0.0011\n",
            "Epoch 42/100\n",
            "62/62 [==============================] - 10s 162ms/step - loss: 9.9032e-04\n",
            "Epoch 43/100\n",
            "62/62 [==============================] - 9s 148ms/step - loss: 9.8652e-04\n",
            "Epoch 44/100\n",
            "62/62 [==============================] - 7s 107ms/step - loss: 8.8587e-04\n",
            "Epoch 45/100\n",
            "62/62 [==============================] - 10s 154ms/step - loss: 9.4296e-04\n",
            "Epoch 46/100\n",
            "62/62 [==============================] - 7s 107ms/step - loss: 9.3348e-04\n",
            "Epoch 47/100\n",
            "62/62 [==============================] - 9s 145ms/step - loss: 9.3825e-04\n",
            "Epoch 48/100\n",
            "62/62 [==============================] - 7s 109ms/step - loss: 9.7636e-04\n",
            "Epoch 49/100\n",
            "62/62 [==============================] - 9s 138ms/step - loss: 9.7373e-04\n",
            "Epoch 50/100\n",
            "62/62 [==============================] - 7s 115ms/step - loss: 9.9223e-04\n",
            "Epoch 51/100\n",
            "62/62 [==============================] - 8s 136ms/step - loss: 9.3695e-04\n",
            "Epoch 52/100\n",
            "62/62 [==============================] - 7s 118ms/step - loss: 8.7145e-04\n",
            "Epoch 53/100\n",
            "62/62 [==============================] - 8s 131ms/step - loss: 9.0015e-04\n",
            "Epoch 54/100\n",
            "62/62 [==============================] - 8s 122ms/step - loss: 9.9070e-04\n",
            "Epoch 55/100\n",
            "62/62 [==============================] - 8s 129ms/step - loss: 9.3275e-04\n",
            "Epoch 56/100\n",
            "62/62 [==============================] - 8s 126ms/step - loss: 8.6401e-04\n",
            "Epoch 57/100\n",
            "62/62 [==============================] - 8s 124ms/step - loss: 9.3115e-04\n",
            "Epoch 58/100\n",
            "62/62 [==============================] - 8s 130ms/step - loss: 8.5504e-04\n",
            "Epoch 59/100\n",
            "62/62 [==============================] - 7s 120ms/step - loss: 8.6674e-04\n",
            "Epoch 60/100\n",
            "62/62 [==============================] - 8s 134ms/step - loss: 8.0659e-04\n",
            "Epoch 61/100\n",
            "62/62 [==============================] - 7s 118ms/step - loss: 7.5564e-04\n",
            "Epoch 62/100\n",
            "62/62 [==============================] - 9s 137ms/step - loss: 7.8525e-04\n",
            "Epoch 63/100\n",
            "62/62 [==============================] - 7s 114ms/step - loss: 8.5045e-04\n",
            "Epoch 64/100\n",
            "62/62 [==============================] - 9s 141ms/step - loss: 7.8525e-04\n",
            "Epoch 65/100\n",
            "62/62 [==============================] - 7s 111ms/step - loss: 6.8139e-04\n",
            "Epoch 66/100\n",
            "62/62 [==============================] - 9s 144ms/step - loss: 8.3376e-04\n",
            "Epoch 67/100\n",
            "62/62 [==============================] - 7s 106ms/step - loss: 7.0742e-04\n",
            "Epoch 68/100\n",
            "62/62 [==============================] - 9s 147ms/step - loss: 7.0548e-04\n",
            "Epoch 69/100\n",
            "62/62 [==============================] - 7s 108ms/step - loss: 7.3709e-04\n",
            "Epoch 70/100\n",
            "62/62 [==============================] - 9s 147ms/step - loss: 9.6539e-04\n",
            "Epoch 71/100\n",
            "62/62 [==============================] - 7s 107ms/step - loss: 8.3786e-04\n",
            "Epoch 72/100\n",
            "62/62 [==============================] - 9s 149ms/step - loss: 8.5742e-04\n",
            "Epoch 73/100\n",
            "62/62 [==============================] - 7s 108ms/step - loss: 8.0751e-04\n",
            "Epoch 74/100\n",
            "62/62 [==============================] - 9s 148ms/step - loss: 6.8224e-04\n",
            "Epoch 75/100\n",
            "62/62 [==============================] - 7s 108ms/step - loss: 7.7162e-04\n",
            "Epoch 76/100\n",
            "62/62 [==============================] - 9s 147ms/step - loss: 7.3982e-04\n",
            "Epoch 77/100\n",
            "62/62 [==============================] - 7s 108ms/step - loss: 8.2667e-04\n",
            "Epoch 78/100\n",
            "62/62 [==============================] - 11s 178ms/step - loss: 7.6833e-04\n",
            "Epoch 79/100\n",
            "62/62 [==============================] - 8s 122ms/step - loss: 6.8115e-04\n",
            "Epoch 80/100\n",
            "62/62 [==============================] - 8s 132ms/step - loss: 7.1372e-04\n",
            "Epoch 81/100\n",
            "62/62 [==============================] - 8s 124ms/step - loss: 6.5868e-04\n",
            "Epoch 82/100\n",
            "62/62 [==============================] - 8s 130ms/step - loss: 7.6607e-04\n",
            "Epoch 83/100\n",
            "62/62 [==============================] - 8s 124ms/step - loss: 6.7954e-04\n",
            "Epoch 84/100\n",
            "62/62 [==============================] - 8s 127ms/step - loss: 6.2310e-04\n",
            "Epoch 85/100\n",
            "62/62 [==============================] - 8s 128ms/step - loss: 6.3479e-04\n",
            "Epoch 86/100\n",
            "62/62 [==============================] - 8s 123ms/step - loss: 7.0739e-04\n",
            "Epoch 87/100\n",
            "62/62 [==============================] - 8s 131ms/step - loss: 6.1881e-04\n",
            "Epoch 88/100\n",
            "62/62 [==============================] - 7s 119ms/step - loss: 7.7715e-04\n",
            "Epoch 89/100\n",
            "62/62 [==============================] - 8s 135ms/step - loss: 7.4499e-04\n",
            "Epoch 90/100\n",
            "62/62 [==============================] - 7s 113ms/step - loss: 5.6781e-04\n",
            "Epoch 91/100\n",
            "62/62 [==============================] - 9s 140ms/step - loss: 5.4836e-04\n",
            "Epoch 92/100\n",
            "62/62 [==============================] - 7s 111ms/step - loss: 6.2658e-04\n",
            "Epoch 93/100\n",
            "62/62 [==============================] - 9s 143ms/step - loss: 6.6802e-04\n",
            "Epoch 94/100\n",
            "62/62 [==============================] - 7s 107ms/step - loss: 7.2563e-04\n",
            "Epoch 95/100\n",
            "62/62 [==============================] - 9s 148ms/step - loss: 6.0504e-04\n",
            "Epoch 96/100\n",
            "62/62 [==============================] - 7s 108ms/step - loss: 6.4528e-04\n",
            "Epoch 97/100\n",
            "62/62 [==============================] - 9s 148ms/step - loss: 6.8291e-04\n",
            "Epoch 98/100\n",
            "62/62 [==============================] - 7s 108ms/step - loss: 6.7055e-04\n",
            "Epoch 99/100\n",
            "62/62 [==============================] - 9s 148ms/step - loss: 6.5460e-04\n",
            "Epoch 100/100\n",
            "62/62 [==============================] - 7s 108ms/step - loss: 7.2388e-04\n"
          ]
        },
        {
          "output_type": "execute_result",
          "data": {
            "text/plain": [
              "<keras.src.callbacks.History at 0x7a35b896df30>"
            ]
          },
          "metadata": {},
          "execution_count": 9
        }
      ],
      "source": [
        "regressor = Sequential()\n",
        "regressor.add(LSTM(units = 50, return_sequences = True, input_shape = (X_train.shape[1], 1)))\n",
        "regressor.add(Dropout(0.2))\n",
        "\n",
        "regressor.add(LSTM(units = 50, return_sequences = True))\n",
        "regressor.add(Dropout(0.2))\n",
        "\n",
        "regressor.add(LSTM(units = 50, return_sequences = True))\n",
        "regressor.add(Dropout(0.2))\n",
        "\n",
        "regressor.add(LSTM(units = 50))\n",
        "regressor.add(Dropout(0.2))\n",
        "\n",
        "regressor.add(Dense(units = 1))\n",
        "\n",
        "regressor.compile(optimizer = 'adam', loss = 'mean_squared_error')\n",
        "\n",
        "regressor.fit(X_train, y_train, epochs = 100, batch_size = 32)"
      ]
    },
    {
      "cell_type": "code",
      "execution_count": null,
      "metadata": {
        "id": "dMBe9iRhlsp0"
      },
      "outputs": [],
      "source": [
        "dataset_test = pd.read_csv('/content/drive/MyDrive/tatatest.csv')\n",
        "real_stock_price = dataset_test.iloc[:, 1:2].values"
      ]
    },
    {
      "cell_type": "code",
      "execution_count": null,
      "metadata": {
        "colab": {
          "base_uri": "https://localhost:8080/"
        },
        "id": "3g7v-GmisHcA",
        "outputId": "491783ac-941c-4083-d64e-9a6dc3e1f14c"
      },
      "outputs": [
        {
          "output_type": "stream",
          "name": "stdout",
          "text": [
            "1/1 [==============================] - 5s 5s/step\n"
          ]
        }
      ],
      "source": [
        "dataset_total = pd.concat((dataset_train['Open'], dataset_test['Open']), axis = 0)\n",
        "inputs = dataset_total[len(dataset_total) - len(dataset_test) - 60:].values\n",
        "inputs = inputs.reshape(-1,1)\n",
        "inputs = sc.transform(inputs)\n",
        "X_test = []\n",
        "for i in range(60, 76):\n",
        "    X_test.append(inputs[i-60:i, 0])\n",
        "X_test = np.array(X_test)\n",
        "X_test = np.reshape(X_test, (X_test.shape[0], X_test.shape[1], 1))\n",
        "predicted_stock_price = regressor.predict(X_test)\n",
        "predicted_stock_price = sc.inverse_transform(predicted_stock_price)"
      ]
    },
    {
      "cell_type": "code",
      "execution_count": null,
      "metadata": {
        "colab": {
          "base_uri": "https://localhost:8080/",
          "height": 487
        },
        "id": "RQq5pOw6seVf",
        "outputId": "b6108f53-4f43-4a9a-d00c-6aa7d399677f"
      },
      "outputs": [
        {
          "output_type": "display_data",
          "data": {
            "text/plain": [
              "<Figure size 1000x500 with 1 Axes>"
            ],
            "image/png": "[encoded data removed]"
          },
          "metadata": {}
        }
      ],
      "source": [
        "plt.figure(figsize=(10,5))\n",
        "plt.plot(real_stock_price, color = 'green', label = 'TATA Stock Price')\n",
        "plt.plot(predicted_stock_price, color = 'blue', label = 'Predicted TATA Stock Price')\n",
        "plt.title('TATA Stock Price Prediction')\n",
        "plt.xlabel('Time')\n",
        "plt.ylabel('TATA Stock Price')\n",
        "plt.legend()\n",
        "plt.show()"
      ]
    }
  ],
  "metadata": {
    "colab": {
      "provenance": []
    },
    "kernelspec": {
      "display_name": "Python 3",
      "name": "python3"
    },
    "language_info": {
      "name": "python"
    }
  },
  "nbformat": 4,
  "nbformat_minor": 0
}